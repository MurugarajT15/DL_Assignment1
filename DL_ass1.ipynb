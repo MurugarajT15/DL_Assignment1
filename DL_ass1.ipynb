{
  "cells": [
    {
      "cell_type": "code",
      "execution_count": 51,
      "metadata": {
        "colab": {
          "base_uri": "https://localhost:8080/"
        },
        "id": "rit74DacZDTH",
        "outputId": "a8050d6f-b76a-4852-ea0e-553781310458"
      },
      "outputs": [
        {
          "output_type": "stream",
          "name": "stdout",
          "text": [
            "Requirement already satisfied: wandb in /usr/local/lib/python3.11/dist-packages (0.19.8)\n",
            "Requirement already satisfied: click!=8.0.0,>=7.1 in /usr/local/lib/python3.11/dist-packages (from wandb) (8.1.8)\n",
            "Requirement already satisfied: docker-pycreds>=0.4.0 in /usr/local/lib/python3.11/dist-packages (from wandb) (0.4.0)\n",
            "Requirement already satisfied: gitpython!=3.1.29,>=1.0.0 in /usr/local/lib/python3.11/dist-packages (from wandb) (3.1.44)\n",
            "Requirement already satisfied: platformdirs in /usr/local/lib/python3.11/dist-packages (from wandb) (4.3.6)\n",
            "Requirement already satisfied: protobuf!=4.21.0,!=5.28.0,<6,>=3.19.0 in /usr/local/lib/python3.11/dist-packages (from wandb) (4.25.6)\n",
            "Requirement already satisfied: psutil>=5.0.0 in /usr/local/lib/python3.11/dist-packages (from wandb) (5.9.5)\n",
            "Requirement already satisfied: pydantic<3,>=2.6 in /usr/local/lib/python3.11/dist-packages (from wandb) (2.10.6)\n",
            "Requirement already satisfied: pyyaml in /usr/local/lib/python3.11/dist-packages (from wandb) (6.0.2)\n",
            "Requirement already satisfied: requests<3,>=2.0.0 in /usr/local/lib/python3.11/dist-packages (from wandb) (2.32.3)\n",
            "Requirement already satisfied: sentry-sdk>=2.0.0 in /usr/local/lib/python3.11/dist-packages (from wandb) (2.22.0)\n",
            "Requirement already satisfied: setproctitle in /usr/local/lib/python3.11/dist-packages (from wandb) (1.3.5)\n",
            "Requirement already satisfied: setuptools in /usr/local/lib/python3.11/dist-packages (from wandb) (75.1.0)\n",
            "Requirement already satisfied: typing-extensions<5,>=4.4 in /usr/local/lib/python3.11/dist-packages (from wandb) (4.12.2)\n",
            "Requirement already satisfied: six>=1.4.0 in /usr/local/lib/python3.11/dist-packages (from docker-pycreds>=0.4.0->wandb) (1.17.0)\n",
            "Requirement already satisfied: gitdb<5,>=4.0.1 in /usr/local/lib/python3.11/dist-packages (from gitpython!=3.1.29,>=1.0.0->wandb) (4.0.12)\n",
            "Requirement already satisfied: annotated-types>=0.6.0 in /usr/local/lib/python3.11/dist-packages (from pydantic<3,>=2.6->wandb) (0.7.0)\n",
            "Requirement already satisfied: pydantic-core==2.27.2 in /usr/local/lib/python3.11/dist-packages (from pydantic<3,>=2.6->wandb) (2.27.2)\n",
            "Requirement already satisfied: charset-normalizer<4,>=2 in /usr/local/lib/python3.11/dist-packages (from requests<3,>=2.0.0->wandb) (3.4.1)\n",
            "Requirement already satisfied: idna<4,>=2.5 in /usr/local/lib/python3.11/dist-packages (from requests<3,>=2.0.0->wandb) (3.10)\n",
            "Requirement already satisfied: urllib3<3,>=1.21.1 in /usr/local/lib/python3.11/dist-packages (from requests<3,>=2.0.0->wandb) (2.3.0)\n",
            "Requirement already satisfied: certifi>=2017.4.17 in /usr/local/lib/python3.11/dist-packages (from requests<3,>=2.0.0->wandb) (2025.1.31)\n",
            "Requirement already satisfied: smmap<6,>=3.0.1 in /usr/local/lib/python3.11/dist-packages (from gitdb<5,>=4.0.1->gitpython!=3.1.29,>=1.0.0->wandb) (5.0.2)\n"
          ]
        }
      ],
      "source": [
        "!pip install wandb\n"
      ]
    },
    {
      "cell_type": "code",
      "execution_count": null,
      "metadata": {
        "id": "bcvy-TES_IRr"
      },
      "outputs": [],
      "source": [
        "#13b86763ab8ddf529c91c7dce385c6cb04b5253e"
      ]
    },
    {
      "cell_type": "code",
      "execution_count": 52,
      "metadata": {
        "colab": {
          "base_uri": "https://localhost:8080/"
        },
        "id": "a90sjGS0Zs9J",
        "outputId": "5046726f-bdf9-478d-8c4d-4782185a5da1"
      },
      "outputs": [
        {
          "output_type": "stream",
          "name": "stderr",
          "text": [
            "\u001b[34m\u001b[1mwandb\u001b[0m: \u001b[33mWARNING\u001b[0m If you're specifying your api key in code, ensure this code is not shared publicly.\n",
            "\u001b[34m\u001b[1mwandb\u001b[0m: \u001b[33mWARNING\u001b[0m Consider setting the WANDB_API_KEY environment variable, or running `wandb login` from the command line.\n",
            "\u001b[34m\u001b[1mwandb\u001b[0m: Appending key for api.wandb.ai to your netrc file: /root/.netrc\n"
          ]
        },
        {
          "output_type": "execute_result",
          "data": {
            "text/plain": [
              "True"
            ]
          },
          "metadata": {},
          "execution_count": 52
        }
      ],
      "source": [
        "import wandb\n",
        "wandb.login(key=\"13b86763ab8ddf529c91c7dce385c6cb04b5253e\")"
      ]
    },
    {
      "cell_type": "code",
      "execution_count": 53,
      "metadata": {
        "id": "t5t6_4J7ogJQ"
      },
      "outputs": [],
      "source": [
        "import numpy as np\n",
        "import matplotlib.pyplot as plt\n",
        "from keras.datasets import fashion_mnist"
      ]
    },
    {
      "cell_type": "code",
      "execution_count": 54,
      "metadata": {
        "id": "gwpyDPVE4ojw"
      },
      "outputs": [],
      "source": [
        "from sklearn.model_selection import train_test_split"
      ]
    },
    {
      "cell_type": "code",
      "execution_count": 50,
      "metadata": {
        "colab": {
          "base_uri": "https://localhost:8080/",
          "height": 613
        },
        "id": "ceQsqpGViHUV",
        "outputId": "bc7db20a-34de-4bfd-ba51-6e3eeff8042b"
      },
      "outputs": [
        {
          "output_type": "display_data",
          "data": {
            "text/plain": [
              "<IPython.core.display.HTML object>"
            ],
            "text/html": [
              "Tracking run with wandb version 0.19.8"
            ]
          },
          "metadata": {}
        },
        {
          "output_type": "display_data",
          "data": {
            "text/plain": [
              "<IPython.core.display.HTML object>"
            ],
            "text/html": [
              "Run data is saved locally in <code>/content/wandb/run-20250317_154049-9mtnx4xt</code>"
            ]
          },
          "metadata": {}
        },
        {
          "output_type": "display_data",
          "data": {
            "text/plain": [
              "<IPython.core.display.HTML object>"
            ],
            "text/html": [
              "Syncing run <strong><a href='https://wandb.ai/iitm-ma23m015/DA6401-Assignment_1/runs/9mtnx4xt' target=\"_blank\">alternative_sample_images</a></strong> to <a href='https://wandb.ai/iitm-ma23m015/DA6401-Assignment_1' target=\"_blank\">Weights & Biases</a> (<a href='https://wandb.me/developer-guide' target=\"_blank\">docs</a>)<br>"
            ]
          },
          "metadata": {}
        },
        {
          "output_type": "display_data",
          "data": {
            "text/plain": [
              "<IPython.core.display.HTML object>"
            ],
            "text/html": [
              " View project at <a href='https://wandb.ai/iitm-ma23m015/DA6401-Assignment_1' target=\"_blank\">https://wandb.ai/iitm-ma23m015/DA6401-Assignment_1</a>"
            ]
          },
          "metadata": {}
        },
        {
          "output_type": "display_data",
          "data": {
            "text/plain": [
              "<IPython.core.display.HTML object>"
            ],
            "text/html": [
              " View run at <a href='https://wandb.ai/iitm-ma23m015/DA6401-Assignment_1/runs/9mtnx4xt' target=\"_blank\">https://wandb.ai/iitm-ma23m015/DA6401-Assignment_1/runs/9mtnx4xt</a>"
            ]
          },
          "metadata": {}
        },
        {
          "output_type": "display_data",
          "data": {
            "text/plain": [
              "<IPython.core.display.HTML object>"
            ],
            "text/html": []
          },
          "metadata": {}
        },
        {
          "output_type": "display_data",
          "data": {
            "text/plain": [
              "<IPython.core.display.HTML object>"
            ],
            "text/html": [
              " View run <strong style=\"color:#cdcd00\">alternative_sample_images</strong> at: <a href='https://wandb.ai/iitm-ma23m015/DA6401-Assignment_1/runs/9mtnx4xt' target=\"_blank\">https://wandb.ai/iitm-ma23m015/DA6401-Assignment_1/runs/9mtnx4xt</a><br> View project at: <a href='https://wandb.ai/iitm-ma23m015/DA6401-Assignment_1' target=\"_blank\">https://wandb.ai/iitm-ma23m015/DA6401-Assignment_1</a><br>Synced 5 W&B file(s), 1 media file(s), 0 artifact file(s) and 0 other file(s)"
            ]
          },
          "metadata": {}
        },
        {
          "output_type": "display_data",
          "data": {
            "text/plain": [
              "<IPython.core.display.HTML object>"
            ],
            "text/html": [
              "Find logs at: <code>./wandb/run-20250317_154049-9mtnx4xt/logs</code>"
            ]
          },
          "metadata": {}
        },
        {
          "output_type": "display_data",
          "data": {
            "text/plain": [
              "<Figure size 1000x500 with 10 Axes>"
            ],
            "image/png": "[encoded data removed]"
          },
          "metadata": {}
        }
      ],
      "source": [
        "import numpy as np\n",
        "import matplotlib.pyplot as plt\n",
        "import wandb\n",
        "from keras.datasets import fashion_mnist\n",
        "\n",
        "# Initialize wandb\n",
        "wandb.init(project=\"DA6401-Assignment_1\", name=\"alternative_sample_images\")\n",
        "\n",
        "# Load dataset\n",
        "(x_train, y_train), (_, _) = fashion_mnist.load_data()\n",
        "\n",
        "# Fashion-MNIST class labels\n",
        "class_labels = [\n",
        "    \"T-shirt/top\", \"Trouser\", \"Pullover\", \"Dress\", \"Coat\",\n",
        "    \"Sandal\", \"Shirt\", \"Sneaker\", \"Bag\", \"Ankle boot\"\n",
        "]\n",
        "\n",
        "# Select 1 sample per class\n",
        "sample_images = []\n",
        "sample_labels = []\n",
        "for class_id in range(10):\n",
        "    idx = np.argwhere(y_train == class_id)[0][0]  # Alternative way to find first occurrence\n",
        "    sample_images.append(x_train[idx])\n",
        "    sample_labels.append(class_labels[class_id])\n",
        "\n",
        "# Plot images\n",
        "fig, axes = plt.subplots(2, 5, figsize=(10, 5))\n",
        "fig.suptitle(\"Fashion-MNIST Sample Images\", fontsize=14)\n",
        "\n",
        "for i, ax in enumerate(axes.flat):\n",
        "    ax.imshow(sample_images[i], cmap=\"gray\")\n",
        "    ax.set_title(sample_labels[i], fontsize=10)\n",
        "    ax.axis(\"off\")\n",
        "\n",
        "plt.subplots_adjust(wspace=0.3, hspace=0.5)  # Adjust spacing\n",
        "\n",
        "# Save the grid as an image\n",
        "plt.savefig(\"fashion_mnist_sample_images.png\", bbox_inches='tight', dpi=300)\n",
        "\n",
        "# Log the entire grid to wandb\n",
        "wandb.log({\"Sample Images Grid\": wandb.Image(\"fashion_mnist_sample_images.png\")})\n",
        "\n",
        "wandb.finish()\n"
      ]
    },
    {
      "cell_type": "code",
      "execution_count": 58,
      "metadata": {
        "id": "mONvEVuo6uX0",
        "colab": {
          "base_uri": "https://localhost:8080/"
        },
        "outputId": "31ae4a9b-67a6-497b-a0e2-a406f945ba3e"
      },
      "outputs": [
        {
          "output_type": "stream",
          "name": "stdout",
          "text": [
            "(10, 60000)\n",
            "[0.1011692  0.10137898 0.0984214  0.09841568 0.10747424 0.09745203\n",
            " 0.09607425 0.10315365 0.09684849 0.09961207]\n"
          ]
        }
      ],
      "source": [
        "#Question no:3\n",
        "import numpy as np\n",
        "from keras.datasets import fashion_mnist\n",
        "\n",
        "# Load dataset\n",
        "(x, y), (x_test, y_test) = fashion_mnist.load_data()\n",
        "\n",
        "# Flatten the input\n",
        "x = x.reshape(x.shape[0], -1)  # (60000, 784)\n",
        "x = x / 255.0  #normalize\n",
        "\n",
        "# Sigmoid Activation\n",
        "def sigmoid(x):\n",
        "    return 1 / (1 + np.exp(-x))\n",
        "\n",
        "# Softmax Activation\n",
        "def softmax(x):\n",
        "    exp_x = np.exp(x - np.max(x, axis=0, keepdims=True))\n",
        "    return exp_x / np.sum(exp_x, axis=0, keepdims=True)\n",
        "\n",
        "# Initialize Weights and Biases\n",
        "def initialize_parameters(num_of_neurons_layers):\n",
        "    weight = {}\n",
        "    bias = {}\n",
        "    for i in range(1, len(num_of_neurons_layers)):\n",
        "        weight['W' + str(i)] = np.random.randn(num_of_neurons_layers[i], num_of_neurons_layers[i - 1]) * 0.01\n",
        "        bias['b' + str(i)] = np.zeros((num_of_neurons_layers[i], 1))\n",
        "    return weight, bias\n",
        "\n",
        "# Forward Propagation\n",
        "def forward_propagation(x, cl, num_hidden_layers, num_neurons):\n",
        "    inp_dim = x.shape[1]\n",
        "    num_of_neurons_layers = [inp_dim] + [num_neurons] * num_hidden_layers + [cl]\n",
        "    l = len(num_of_neurons_layers)\n",
        "\n",
        "    a = {}\n",
        "    h = {'h0': x.T}\n",
        "    weight, bias = initialize_parameters(num_of_neurons_layers)\n",
        "\n",
        "\n",
        "    for i in range(1, l - 1):\n",
        "        a[\"a\" + str(i)] = np.dot(weight['W' + str(i)], h['h' + str(i - 1)]) + bias['b' + str(i)]\n",
        "        h['h' + str(i)] = sigmoid(a[\"a\" + str(i)])\n",
        "\n",
        "    a['a' + str(l - 1)] = np.dot(weight['W' + str(l - 1)], h['h' + str(l - 2)]) + bias['b' + str(l - 1)]\n",
        "    y_pred = softmax(a['a' + str(l - 1)])\n",
        "\n",
        "    return y_pred\n",
        "\n",
        "\n",
        "y_pred = forward_propagation(x, 10, 3, 36)\n",
        "print(y_pred.shape)\n",
        "print(y_pred[:, 0])\n"
      ]
    },
    {
      "cell_type": "code",
      "execution_count": 21,
      "metadata": {
        "id": "29O_ok_4PQgg"
      },
      "outputs": [],
      "source": [
        "import numpy as np\n",
        "from sklearn.model_selection import train_test_split\n",
        "\n",
        "class FFNN:\n",
        "    def __init__(self,x_train, y_train, x_test, y_test,num_hidden_layers=3, num_neurons=128,weight_init=\"xavier\",act=\"sigmoid\",l2_reg=0):\n",
        "        self.x_train = x_train\n",
        "        self.y_train = y_train\n",
        "        self.x_test = x_test\n",
        "        self.y_test = y_test\n",
        "        self.num_hidden_layers=num_hidden_layers\n",
        "        self.num_of_neurons_layers = [784] + [num_neurons] * num_hidden_layers + [len(np.unique(y_train))]\n",
        "        self.act=act\n",
        "        self.l2_reg=l2_reg\n",
        "        self.weight_init=weight_init\n",
        "        self.weights = {}\n",
        "        self.bias = {}\n",
        "        self.data_preprocessing()\n",
        "        self.split_data()\n",
        "        self.one_hot_encode()\n",
        "        self.initialize_parameters()\n",
        "\n",
        "    def data_preprocessing(self):\n",
        "        self.x_train = self.x_train.reshape(self.x_train.shape[0], -1) / 255.0\n",
        "        self.x_test = self.x_test.reshape(self.x_test.shape[0], -1) / 255.0\n",
        "\n",
        "    def split_data(self):\n",
        "        self.x_train, self.x_val, self.y_train, self.y_val = train_test_split(self.x_train, self.y_train, test_size=0.1, random_state=42)\n",
        "\n",
        "    def one_hot_encode(self):\n",
        "      num_classes = len(np.unique(self.y_train))\n",
        "\n",
        "      self.y_train_encoded = np.zeros((len(self.y_train), num_classes))\n",
        "      self.y_train_encoded[np.arange(len(self.y_train)), self.y_train] = 1\n",
        "\n",
        "      self.y_val_encoded = np.zeros((len(self.y_val), num_classes))\n",
        "      self.y_val_encoded[np.arange(len(self.y_val)), self.y_val] = 1\n",
        "\n",
        "      self.y_test_encoded = np.zeros((len(self.y_test), num_classes))\n",
        "      self.y_test_encoded[np.arange(len(self.y_test)), self.y_test] = 1\n",
        "\n",
        "\n",
        "    def sigmoid(self, z):\n",
        "        return 1 / (1 + np.exp(-z))\n",
        "\n",
        "    def deriv_sigmoid(self, z):\n",
        "        return self.sigmoid(z) * (1 - self.sigmoid(z))\n",
        "\n",
        "    def relu(self, z):\n",
        "        return np.maximum(0, z)\n",
        "\n",
        "    def deriv_relu(self, z):\n",
        "        return np.where(z <= 0, 0, 1)\n",
        "\n",
        "    def tanh(self, z):\n",
        "        return np.tanh(z)\n",
        "\n",
        "    def deriv_tanh(self, z):\n",
        "        return 1 - np.tanh(z) ** 2\n",
        "\n",
        "    def softmax(self, z):\n",
        "        z = z - np.max(z, axis=0, keepdims=True)\n",
        "        exp = np.exp(z)\n",
        "        return exp / np.sum(exp, axis=0, keepdims=True)\n",
        "\n",
        "    def activation_function(self, z):\n",
        "        if self.act == 'sigmoid':\n",
        "            return self.sigmoid(z)\n",
        "        elif self.act == 'relu':\n",
        "            return self.relu(z)\n",
        "        elif self.act == 'tanh':\n",
        "            return self.tanh(z)\n",
        "\n",
        "    def grad_activation_function(self, z):\n",
        "        if self.act == 'sigmoid':\n",
        "            return self.deriv_sigmoid(z)\n",
        "        elif self.act == 'relu':\n",
        "            return self.deriv_relu(z)\n",
        "        elif self.act == 'tanh':\n",
        "            return self.deriv_tanh(z)\n",
        "\n",
        "    def cross_entropy(self, y_actual, y_pred):\n",
        "      epsilon = 1e-15  # to avoid log(0)\n",
        "      y_pred = np.clip(y_pred, epsilon, 1 - epsilon)\n",
        "\n",
        "\n",
        "      norm = sum(np.sum(np.square(weight)) for weight in self.weights.values())\n",
        "\n",
        "      loss = -np.mean(np.sum(y_actual * np.log(y_pred), axis=0)) + self.l2_reg / 2 * norm\n",
        "      return loss\n",
        "\n",
        "    def mean_squared_error_loss(self, y_actual, y_pred):\n",
        "      return np.mean(np.sum((y_actual - y_pred)**2, axis=0))\n",
        "\n",
        "    def initialize_parameters(self):\n",
        "      for i in range(1, len(self.num_of_neurons_layers)):\n",
        "        if self.weight_init == \"xavier\":\n",
        "            self.weights['W' + str(i)] = np.random.randn(self.num_of_neurons_layers[i], self.num_of_neurons_layers[i - 1]) * np.sqrt(2/ self.num_of_neurons_layers[i - 1])\n",
        "        elif self.weight_init==\"random\":\n",
        "            self.weights['W' + str(i)] = np.random.randn(self.num_of_neurons_layers[i], self.num_of_neurons_layers[i - 1])\n",
        "        self.bias['b' + str(i)] = np.zeros((self.num_of_neurons_layers[i], 1))\n",
        "\n",
        "    def forward_propagation(self, x):\n",
        "        a = {}\n",
        "        h = {'h0': x.T}\n",
        "        l = len(self.num_of_neurons_layers)\n",
        "\n",
        "        for i in range(1, l-1):\n",
        "          W = self.weights[\"W\"+str(i)]\n",
        "          b = self.bias[\"b\"+str(i)]\n",
        "          a[\"a\" + str(i)] = np.matmul(W, h[\"h\" + str(i-1)]) + b\n",
        "          h['h' + str(i)] = self.activation_function(a[\"a\" + str(i)])\n",
        "\n",
        "        # output layer\n",
        "        W = self.weights[\"W\"+str(l-1)]\n",
        "        b = self.bias[\"b\"+str(l-1)]\n",
        "\n",
        "        a[\"a\"+str(l-1)] = np.matmul(W,h[\"h\"+str(l-2)]) + b\n",
        "\n",
        "        y_pred= self.softmax(a[\"a\"+str(l-1)])\n",
        "        return a,h,y_pred\n",
        "\n",
        "    def back_propagation(self, x, y_actual):\n",
        "        a, h, y_pred = self.forward_propagation(x)\n",
        "        grads = {}\n",
        "        l = len(self.num_of_neurons_layers)\n",
        "        grad_a = {'a' + str(l - 1): y_pred - y_actual.T}\n",
        "\n",
        "        for i in range(l - 1, 0, -1):\n",
        "          grads['gradW' + str(i)] = np.dot(grad_a['a' + str(i)], h['h' + str(i - 1)].T) / x.shape[0]+self.l2_reg*self.weights[\"W\"+str(i)]\n",
        "          grads['gradb' + str(i)] = np.sum(grad_a['a' + str(i)], axis=1, keepdims=True) / x.shape[0]\n",
        "          if i>1:\n",
        "            grad_a['h' + str(i - 1)] = np.dot(self.weights['W' + str(i)].T, grad_a['a' + str(i)])\n",
        "            grad_a['a' + str(i - 1)] = grad_a['h' + str(i - 1)] * (self.grad_activation_function(a['a' + str(i - 1)]))\n",
        "\n",
        "        return grads\n",
        "\n",
        "    def cal_accuracy(self, x):\n",
        "      if np.array_equal(x, self.x_train):\n",
        "        _, _, y_train_pred = self.forward_propagation(self.x_train)\n",
        "        y_train_pred = np.clip(y_train_pred, 1e-15, 1 - 1e-15)\n",
        "\n",
        "        loss = self.cross_entropy(self.y_train_encoded.T, y_train_pred)\n",
        "\n",
        "        actual_label = np.argmax(self.y_train_encoded.T, axis=0)\n",
        "        predicted_label = np.argmax(y_train_pred, axis=0)\n",
        "        accuracy = np.mean(actual_label == predicted_label)\n",
        "\n",
        "        return loss, accuracy, y_train_pred\n",
        "\n",
        "      elif np.array_equal(x, self.x_val):\n",
        "        _, _, y_val_pred = self.forward_propagation(self.x_val)\n",
        "        y_val_pred = np.clip(y_val_pred, 1e-15, 1 - 1e-15)\n",
        "\n",
        "        loss = self.cross_entropy(self.y_val_encoded.T, y_val_pred)\n",
        "\n",
        "        actual_label = np.argmax(self.y_val_encoded.T, axis=0)\n",
        "        predicted_label = np.argmax(y_val_pred, axis=0)\n",
        "        accuracy = np.mean(actual_label == predicted_label)\n",
        "\n",
        "        return loss, accuracy, y_val_pred\n",
        "\n",
        "\n",
        "    def cal_test_accuracy(self,x):\n",
        "        _, _, y_test_pred = self.forward_propagation(self.x_test)\n",
        "        y_test_pred = np.clip(y_test_pred, 1e-15, 1 - 1e-15)\n",
        "        loss=self.cross_entropy(self.y_test_encoded.T,y_test_pred)\n",
        "\n",
        "        actual_label=np.argmax(self.y_test_encoded.T, axis=0)\n",
        "        predicted_label=np.argmax(y_test_pred, axis =0)\n",
        "        accuracy=np.mean(actual_label==predicted_label)\n",
        "        return loss,accuracy,y_test_pred\n",
        "\n",
        "\n",
        "    def gradient_descent(self, eta, x, y_actual, epochs):\n",
        "      for epoch in range(epochs):\n",
        "        grads = self.back_propagation(x, y_actual)\n",
        "        for i in range(1, len(self.num_of_neurons_layers)):\n",
        "            self.weights['W' + str(i)] -= eta * grads['gradW' + str(i)]\n",
        "            self.bias['b' + str(i)] -= eta * grads['gradb' + str(i)]\n",
        "\n",
        "        loss, accuracy,_ = self.cal_accuracy(self.x_train)\n",
        "        print(f\"End of Epoch {epoch+1}, Loss: {loss}, Accuracy: {accuracy}\")\n",
        "        wandb.log({'train_loss': loss})\n",
        "        wandb.log({'train_accuracy': accuracy*100 })\n",
        "        wandb.log({'epoch': epoch + 1})\n",
        "\n",
        "        val_loss, val_accuracy,_ = self.cal_accuracy(self.x_val)\n",
        "        print(f\"End of Epoch {epoch+1}, Validation Loss: {val_loss}, Validation Accuracy: {val_accuracy}\")\n",
        "        wandb.log({'val_loss': val_loss})\n",
        "        wandb.log({'validation_accuracy': val_accuracy*100 })\n",
        "      parameters = {**self.weights, **self.bias}\n",
        "      return parameters\n",
        "\n",
        "    def sgd(self, eta, batch_size, epochs):\n",
        "      for epoch in range(epochs):\n",
        "        indices = np.random.permutation(self.x_train.shape[0])\n",
        "        x_shuffled = self.x_train[indices]\n",
        "        y_shuffled = self.y_train_encoded[indices]\n",
        "\n",
        "        for i in range(0, self.x_train.shape[0], batch_size):\n",
        "            x_batch = x_shuffled[i:i + batch_size]\n",
        "            y_batch = y_shuffled[i:i + batch_size]\n",
        "            grads = self.back_propagation(x_batch, y_batch)\n",
        "\n",
        "            for j in range(1, len(self.num_of_neurons_layers)):\n",
        "                self.weights['W' + str(j)] -= eta * grads['gradW' + str(j)]\n",
        "                self.bias['b' + str(j)] -= eta * grads['gradb' + str(j)]\n",
        "\n",
        "        loss, accuracy,_ = self.cal_accuracy(self.x_train)\n",
        "        print(f\"End of Epoch {epoch+1}, Loss: {loss}, Accuracy: {accuracy}\")\n",
        "        wandb.log({'train_loss': loss})\n",
        "        wandb.log({'train_accuracy': accuracy*100 })\n",
        "        wandb.log({'epoch': epoch + 1})\n",
        "\n",
        "\n",
        "        val_loss, val_accuracy,_ = self.cal_accuracy(self.x_val)\n",
        "        print(f\"End of Epoch {epoch+1}, Validation Loss: {val_loss}, Validation Accuracy: {val_accuracy}\")\n",
        "        wandb.log({'val_loss': val_loss})\n",
        "        wandb.log({'validation_accuracy': val_accuracy*100 })\n",
        "      parameters = {**self.weights, **self.bias}\n",
        "      return parameters\n",
        "\n",
        "    def mgd(self, eta, batch_size, epochs,beta=0.9):\n",
        "      u_weights = {key: np.zeros_like(value) for key, value in self.weights.items()}\n",
        "      u_bias = {key: np.zeros_like(value) for key, value in self.bias.items()}\n",
        "\n",
        "      for epoch in range(epochs):\n",
        "        indices = np.random.permutation(self.x_train.shape[0])\n",
        "        x_shuffled = self.x_train[indices]\n",
        "        y_shuffled = self.y_train_encoded[indices]\n",
        "\n",
        "        for i in range(0, self.x_train.shape[0], batch_size):\n",
        "            x_batch = x_shuffled[i:i + batch_size]\n",
        "            y_batch = y_shuffled[i:i + batch_size]\n",
        "            grads = self.back_propagation(x_batch, y_batch)\n",
        "\n",
        "            for j in range(1, len(self.num_of_neurons_layers)):\n",
        "                u_weights['W' + str(j)] = beta * u_weights['W' + str(j)] + eta * grads['gradW' + str(j)]\n",
        "                u_bias['b' + str(j)] = beta * u_bias['b' + str(j)] + eta * grads['gradb' + str(j)]\n",
        "                self.weights['W' + str(j)] -= u_weights['W' + str(j)]\n",
        "                self.bias['b' + str(j)] -= u_bias['b' + str(j)]\n",
        "        loss, accuracy,_ = self.cal_accuracy(self.x_train)\n",
        "        print(f\"End of Epoch {epoch+1}, Loss: {loss}, Accuracy: {accuracy}\")\n",
        "        wandb.log({'train_loss': loss})\n",
        "        wandb.log({'train_accuracy': accuracy*100 })\n",
        "        wandb.log({'epoch': epoch + 1})\n",
        "\n",
        "        val_loss, val_accuracy,_ = self.cal_accuracy(self.x_val)\n",
        "        print(f\"End of Epoch {epoch+1}, Validation Loss: {val_loss}, Validation Accuracy: {val_accuracy}\")\n",
        "        wandb.log({'val_loss': val_loss})\n",
        "        wandb.log({'validation_accuracy': val_accuracy*100 })\n",
        "      parameters = {**self.weights, **self.bias}\n",
        "      return parameters\n",
        "\n",
        "    def nesterov_agd(self, eta, batch_size, epochs, beta=0.9):\n",
        "      prev_v_weights = {key: np.zeros_like(value) for key, value in self.weights.items()}\n",
        "      prev_v_bias = {key: np.zeros_like(value) for key, value in self.bias.items()}\n",
        "\n",
        "      for epoch in range(epochs):\n",
        "        for batch_start in range(0, self.x_train.shape[0], batch_size):\n",
        "            x_batch = self.x_train[batch_start:batch_start + batch_size]\n",
        "            y_batch = self.y_train_encoded[batch_start:batch_start + batch_size]\n",
        "            v_weights = {key: beta * prev_v_weights[key] for key in prev_v_weights}\n",
        "            v_bias = {key: beta * prev_v_bias[key] for key in prev_v_bias}\n",
        "\n",
        "            for i in range(1,len(self.num_of_neurons_layers)):\n",
        "                self.weights['W' + str(i)] -= v_weights['W' + str(i)]\n",
        "                self.bias['b' + str(i)] -= v_bias['b' + str(i)]\n",
        "\n",
        "            grads = self.back_propagation(x_batch, y_batch)\n",
        "\n",
        "            for i in range(1,len(self.num_of_neurons_layers)):\n",
        "                self.weights['W' + str(i)] += v_weights['W' + str(i)]\n",
        "                self.bias['b' + str(i)] += v_bias['b' + str(i)]\n",
        "            for i in range(1, len(self.num_of_neurons_layers)):\n",
        "                v_weights['W' + str(i)] = beta * prev_v_weights['W' + str(i)] + eta * grads['gradW' + str(i)]\n",
        "                v_bias['b' + str(i)] = beta * prev_v_bias['b' + str(i)] + eta * grads['gradb' + str(i)]\n",
        "                self.weights['W' + str(i)] -= v_weights['W' + str(i)]\n",
        "                self.bias['b' + str(i)] -= v_bias['b' + str(i)]\n",
        "                prev_v_weights['W' + str(i)]=v_weights['W' + str(i)]\n",
        "                prev_v_bias['b' + str(i)]=v_bias['b' + str(i)]\n",
        "        loss, accuracy,_ = self.cal_accuracy(self.x_train)\n",
        "        print(f\"End of Epoch {epoch+1}, Loss: {loss}, Accuracy: {accuracy}\")\n",
        "        wandb.log({'train_loss': loss})\n",
        "        wandb.log({'train_accuracy': accuracy*100 })\n",
        "        wandb.log({'epoch': epoch + 1})\n",
        "\n",
        "        val_loss, val_accuracy,_ = self.cal_accuracy(self.x_val)\n",
        "        print(f\"End of Epoch {epoch+1}, Validation Loss: {val_loss}, Validation Accuracy: {val_accuracy}\")\n",
        "        wandb.log({'val_loss': val_loss})\n",
        "        wandb.log({'validation_accuracy': val_accuracy*100 })\n",
        "\n",
        "      return {**self.weights,**self.bias}\n",
        "\n",
        "\n",
        "    def rmsprop(self, eta, beta, batch_size, epochs):\n",
        "      v_weights = {key: np.zeros_like(value) for key, value in self.weights.items()}\n",
        "      v_bias = {key: np.zeros_like(value) for key, value in self.bias.items()}\n",
        "      epsilon=1e-4\n",
        "      for epoch in range(epochs):\n",
        "        for batch_start in range(0, self.x_train.shape[0], batch_size):\n",
        "            x_batch = self.x_train[batch_start:batch_start + batch_size]\n",
        "            y_batch = self.y_train_encoded[batch_start:batch_start + batch_size]\n",
        "            grads = self.back_propagation(x_batch, y_batch)\n",
        "\n",
        "            for i in range(1, len(self.num_of_neurons_layers)):\n",
        "                v_weights['W' + str(i)] = beta * v_weights['W' + str(i)] + (1 - beta) * (grads['gradW' + str(i)] ** 2)\n",
        "                v_bias['b' + str(i)] = beta * v_bias['b' + str(i)] + (1 - beta) * (grads['gradb' + str(i)] ** 2)\n",
        "                self.weights['W' + str(i)] -= eta * grads['gradW' + str(i)] / (np.sqrt(v_weights['W' + str(i)]) + epsilon)\n",
        "                self.bias['b' + str(i)] -= eta * grads['gradb' + str(i)] / (np.sqrt(v_bias['b' + str(i)]) + epsilon)\n",
        "        loss, accuracy,_ = self.cal_accuracy(self.x_train)\n",
        "        print(f\"End of Epoch {epoch+1}, Loss: {loss}, Accuracy: {accuracy}\")\n",
        "        wandb.log({'train_loss': loss})\n",
        "        wandb.log({'train_accuracy': accuracy*100 })\n",
        "        wandb.log({'epoch': epoch + 1})\n",
        "\n",
        "\n",
        "        val_loss, val_accuracy,_ = self.cal_accuracy(self.x_val)\n",
        "        print(f\"End of Epoch {epoch+1}, Validation Loss: {val_loss}, Validation Accuracy: {val_accuracy}\")\n",
        "        wandb.log({'val_loss': val_loss})\n",
        "        wandb.log({'validation_accuracy': val_accuracy*100 })\n",
        "\n",
        "      return {**self.weights, **self.bias}\n",
        "\n",
        "\n",
        "    def adam(self, eta, beta1, beta2, epsilon, batch_size, epochs):\n",
        "      m_weights = {key: np.zeros_like(value) for key, value in self.weights.items()}\n",
        "      v_weights = {key: np.zeros_like(value) for key, value in self.weights.items()}\n",
        "      m_bias = {key: np.zeros_like(value) for key, value in self.bias.items()}\n",
        "      v_bias = {key: np.zeros_like(value) for key, value in self.bias.items()}\n",
        "\n",
        "      for epoch in range(1, epochs + 1):\n",
        "        for batch_start in range(0, self.x_train.shape[0], batch_size):\n",
        "            x_batch = self.x_train[batch_start:batch_start + batch_size]\n",
        "            y_batch = self.y_train_encoded[batch_start:batch_start + batch_size]\n",
        "            grads = self.back_propagation(x_batch, y_batch)\n",
        "\n",
        "            for i in range(1, len(self.num_of_neurons_layers)):\n",
        "                m_weights['W' + str(i)] = beta1 * m_weights['W' + str(i)] + (1 - beta1) * grads['gradW' + str(i)]\n",
        "                v_weights['W' + str(i)] = beta2 * v_weights['W' + str(i)] + (1 - beta2) * (grads['gradW' + str(i)] ** 2)\n",
        "                m_bias['b' + str(i)] = beta1 * m_bias['b' + str(i)] + (1 - beta1) * grads['gradb' + str(i)]\n",
        "                v_bias['b' + str(i)] = beta2 * v_bias['b' + str(i)] + (1 - beta2) * (grads['gradb' + str(i)] ** 2)\n",
        "\n",
        "                m_hat_w = m_weights['W' + str(i)] / (1 - beta1 ** epoch)\n",
        "                v_hat_w = v_weights['W' + str(i)] / (1 - beta2 ** epoch)\n",
        "                m_hat_b = m_bias['b' + str(i)] / (1 - beta1 ** epoch)\n",
        "                v_hat_b = v_bias['b' + str(i)] / (1 - beta2 ** epoch)\n",
        "\n",
        "                self.weights['W' + str(i)] -= eta * m_hat_w / (np.sqrt(v_hat_w) + epsilon)\n",
        "                self.bias['b' + str(i)] -= eta * m_hat_b / (np.sqrt(v_hat_b) + epsilon)\n",
        "        loss, accuracy,_ = self.cal_accuracy(self.x_train)\n",
        "        print(f\"End of Epoch {epoch}, Loss: {loss}, Accuracy: {accuracy}\")\n",
        "        wandb.log({'train_loss': loss})\n",
        "        wandb.log({'train_accuracy': accuracy*100 })\n",
        "        wandb.log({'epoch': epoch})\n",
        "\n",
        "\n",
        "        val_loss, val_accuracy,_ = self.cal_accuracy(self.x_val)\n",
        "        print(f\"End of Epoch {epoch}, Validation Loss: {val_loss}, Validation Accuracy: {val_accuracy}\")\n",
        "        wandb.log({'val_loss': val_loss})\n",
        "        wandb.log({'validation_accuracy': val_accuracy*100 })\n",
        "\n",
        "      return {**self.weights, **self.bias}\n",
        "\n",
        "\n",
        "    def nadam(self, eta, beta1, beta2, epsilon, batch_size, epochs):\n",
        "      m_weights = {key: np.zeros_like(value) for key, value in self.weights.items()}\n",
        "      v_weights = {key: np.zeros_like(value) for key, value in self.weights.items()}\n",
        "      m_bias = {key: np.zeros_like(value) for key, value in self.bias.items()}\n",
        "      v_bias = {key: np.zeros_like(value) for key, value in self.bias.items()}\n",
        "\n",
        "      for epoch in range(1, epochs + 1):\n",
        "        for batch_start in range(0, self.x_train.shape[0], batch_size):\n",
        "            x_batch = self.x_train[batch_start:batch_start + batch_size]\n",
        "            y_batch = self.y_train_encoded[batch_start:batch_start + batch_size]\n",
        "            grads = self.back_propagation(x_batch, y_batch)\n",
        "\n",
        "            for i in range(1, len(self.num_of_neurons_layers)):\n",
        "                m_weights['W' + str(i)] = beta1 * m_weights['W' + str(i)] + (1 - beta1) * grads['gradW' + str(i)]\n",
        "                v_weights['W' + str(i)] = beta2 * v_weights['W' + str(i)] + (1 - beta2) * (grads['gradW' + str(i)] ** 2)\n",
        "                m_hat_w = m_weights['W' + str(i)] / (1 - beta1 ** epoch)\n",
        "                v_hat_w = v_weights['W' + str(i)] / (1 - beta2 ** epoch)\n",
        "\n",
        "                self.weights['W' + str(i)] -= eta * (beta1 * m_hat_w + (1 - beta1) * grads['gradW' + str(i)] / (1 - beta1 ** epoch)) / (np.sqrt(v_hat_w) + epsilon)\n",
        "        loss, accuracy,_ = self.cal_accuracy(self.x_train)\n",
        "        print(f\"End of Epoch {epoch}, Loss: {loss}, Accuracy: {accuracy}\")\n",
        "        wandb.log({'train_loss': loss})\n",
        "        wandb.log({'train_accuracy': accuracy*100 })\n",
        "        wandb.log({'epoch': epoch })\n",
        "\n",
        "\n",
        "        val_loss, val_accuracy,_ = self.cal_accuracy(self.x_val)\n",
        "        print(f\"End of Epoch {epoch}, Validation Loss: {val_loss}, Validation Accuracy: {val_accuracy}\")\n",
        "        wandb.log({'val_loss': val_loss})\n",
        "        wandb.log({'validation_accuracy': val_accuracy*100 })\n",
        "      parameters={**self.weights,**self.bias}\n",
        "      return parameters\n",
        "\n",
        "    def adam1(self, eta, beta1, beta2, epsilon, batch_size, epochs):\n",
        "      m_weights = {key: np.zeros_like(value) for key, value in self.weights.items()}\n",
        "      v_weights = {key: np.zeros_like(value) for key, value in self.weights.items()}\n",
        "      m_bias = {key: np.zeros_like(value) for key, value in self.bias.items()}\n",
        "      v_bias = {key: np.zeros_like(value) for key, value in self.bias.items()}\n",
        "\n",
        "      for epoch in range(1, epochs + 1):\n",
        "        for batch_start in range(0, self.x_train.shape[0], batch_size):\n",
        "            x_batch = self.x_train[batch_start:batch_start + batch_size]\n",
        "            y_batch = self.y_train_encoded[batch_start:batch_start + batch_size]\n",
        "            grads = self.back_propagation(x_batch, y_batch)\n",
        "\n",
        "            for i in range(1, len(self.num_of_neurons_layers)):\n",
        "                m_weights['W' + str(i)] = beta1 * m_weights['W' + str(i)] + (1 - beta1) * grads['gradW' + str(i)]\n",
        "                v_weights['W' + str(i)] = beta2 * v_weights['W' + str(i)] + (1 - beta2) * (grads['gradW' + str(i)] ** 2)\n",
        "                m_bias['b' + str(i)] = beta1 * m_bias['b' + str(i)] + (1 - beta1) * grads['gradb' + str(i)]\n",
        "                v_bias['b' + str(i)] = beta2 * v_bias['b' + str(i)] + (1 - beta2) * (grads['gradb' + str(i)] ** 2)\n",
        "\n",
        "                m_hat_w = m_weights['W' + str(i)] / (1 - beta1 ** epoch)\n",
        "                v_hat_w = v_weights['W' + str(i)] / (1 - beta2 ** epoch)\n",
        "                m_hat_b = m_bias['b' + str(i)] / (1 - beta1 ** epoch)\n",
        "                v_hat_b = v_bias['b' + str(i)] / (1 - beta2 ** epoch)\n",
        "\n",
        "                self.weights['W' + str(i)] -= eta * m_hat_w / (np.sqrt(v_hat_w) + epsilon)\n",
        "                self.bias['b' + str(i)] -= eta * m_hat_b / (np.sqrt(v_hat_b) + epsilon)\n",
        "\n",
        "        loss, accuracy,_ = self.cal_accuracy(self.x_train)\n",
        "        print(f\"End of Epoch {epoch}, Loss: {loss}, Accuracy: {accuracy}\")\n",
        "\n",
        "        val_loss, val_accuracy,_ = self.cal_accuracy(self.x_val)\n",
        "        print(f\"End of Epoch {epoch}, Validation Loss: {val_loss}, Validation Accuracy: {val_accuracy}\")\n",
        "\n",
        "      return {**self.weights, **self.bias}\n",
        "\n",
        "    def nadam1(self, eta, beta1, beta2, epsilon, batch_size, epochs):\n",
        "      m_weights = {key: np.zeros_like(value) for key, value in self.weights.items()}\n",
        "      v_weights = {key: np.zeros_like(value) for key, value in self.weights.items()}\n",
        "      m_bias = {key: np.zeros_like(value) for key, value in self.bias.items()}\n",
        "      v_bias = {key: np.zeros_like(value) for key, value in self.bias.items()}\n",
        "\n",
        "      for epoch in range(1, epochs + 1):\n",
        "        for batch_start in range(0, self.x_train.shape[0], batch_size):\n",
        "            x_batch = self.x_train[batch_start:batch_start + batch_size]\n",
        "            y_batch = self.y_train_encoded[batch_start:batch_start + batch_size]\n",
        "            grads = self.back_propagation(x_batch, y_batch)\n",
        "\n",
        "            for i in range(1, len(self.num_of_neurons_layers)):\n",
        "                m_weights['W' + str(i)] = beta1 * m_weights['W' + str(i)] + (1 - beta1) * grads['gradW' + str(i)]\n",
        "                v_weights['W' + str(i)] = beta2 * v_weights['W' + str(i)] + (1 - beta2) * (grads['gradW' + str(i)] ** 2)\n",
        "                m_hat_w = m_weights['W' + str(i)] / (1 - beta1 ** epoch)\n",
        "                v_hat_w = v_weights['W' + str(i)] / (1 - beta2 ** epoch)\n",
        "\n",
        "                self.weights['W' + str(i)] -= eta * (beta1 * m_hat_w + (1 - beta1) * grads['gradW' + str(i)] / (1 - beta1 ** epoch)) / (np.sqrt(v_hat_w) + epsilon)\n",
        "        loss, accuracy,_ = self.cal_accuracy(self.x_train)\n",
        "        print(f\"End of Epoch {epoch}, Loss: {loss}, Accuracy: {accuracy}\")\n",
        "\n",
        "        val_loss, val_accuracy,_ = self.cal_accuracy(self.x_val)\n",
        "        print(f\"End of Epoch {epoch}, Validation Loss: {val_loss}, Validation Accuracy: {val_accuracy}\")\n",
        "      parameters={**self.weights,**self.bias}\n",
        "      return parameters\n",
        "\n",
        "\n",
        "    def train_model(self, optimizer, eta, epochs, batch_size=None, beta1=0.9, beta2=0.999, epsilon=1e-8):\n",
        "        if optimizer == 'sgd':\n",
        "            parameters=self.sgd(eta, batch_size, epochs)\n",
        "            return parameters\n",
        "        elif optimizer == 'mgd':\n",
        "            parameters=self.mgd(eta, batch_size, epochs,beta1)\n",
        "            return parameters\n",
        "        elif optimizer == 'nesterov_agd':\n",
        "            parameters=self.nesterov_agd(eta, batch_size, epochs,beta1)\n",
        "            return parameters\n",
        "        elif optimizer == 'rmsprop':\n",
        "            parameters=self.rmsprop(eta,beta1,batch_size, epochs)\n",
        "            return parameters\n",
        "        elif optimizer == 'adam':\n",
        "            parameters=self.adam(eta, beta1, beta2, epsilon,batch_size,epochs)\n",
        "            return parameters\n",
        "        elif optimizer =='nadam':\n",
        "            parameters=self.nadam(eta, beta1, beta2, epsilon,batch_size,epochs)\n",
        "            return parameters\n",
        "        elif optimizer =='adam1':\n",
        "            parameters=self.adam1(eta, beta1, beta2, epsilon,batch_size,epochs)\n",
        "            return parameters\n",
        "        elif optimizer =='nadam1':\n",
        "            parameters=self.nadam1(eta, beta1, beta2, epsilon,batch_size,epochs)\n",
        "\n",
        "    def calculate_loss(self, y_actual, y_pred):\n",
        "        if self.loss_type == \"cross_entropy\":\n",
        "            return self.cross_entropy_loss(y_actual, y_pred)\n",
        "        elif self.loss_type == \"mse\":\n",
        "            return self.mean_squared_error_loss(y_actual, y_pred)\n",
        "\n",
        "    def train_loss(self, epochs=10):\n",
        "        losses = []\n",
        "        for epoch in range(epochs):\n",
        "            y_pred = self.forward_propagation(self.x_train)\n",
        "            loss = self.calculate_loss(self.y_train_encoded.T, y_pred)\n",
        "            losses.append(loss)\n",
        "\n",
        "        return losses\n"
      ]
    },
    {
      "cell_type": "code",
      "execution_count": null,
      "metadata": {
        "id": "aBnLE2sopd5z"
      },
      "outputs": [],
      "source": []
    },
    {
      "cell_type": "code",
      "execution_count": 6,
      "metadata": {
        "id": "rAeqzFBTzm1x"
      },
      "outputs": [],
      "source": [
        "import wandb\n",
        "import numpy as np\n",
        "from types import SimpleNamespace\n",
        "import random"
      ]
    },
    {
      "cell_type": "code",
      "execution_count": 7,
      "metadata": {
        "colab": {
          "base_uri": "https://localhost:8080/"
        },
        "id": "FsOJ0_5iznQ1",
        "outputId": "8ef25c4b-fe32-4f44-deff-74b69e934a7c"
      },
      "outputs": [
        {
          "output_type": "stream",
          "name": "stdout",
          "text": [
            "Create sweep with ID: nu0g61xm\n",
            "Sweep URL: https://wandb.ai/iitm-ma23m015/DA6401-Assignment_1/sweeps/nu0g61xm\n"
          ]
        }
      ],
      "source": [
        "# config file\n",
        "sweep_config = {\n",
        "    'method': 'bayes',\n",
        "    'name' : 'sweep - fashion mnist 100 runs',\n",
        "\n",
        "    'metric': {\n",
        "        'goal': 'maximize',\n",
        "        'name': 'validation_accuracy'\n",
        "    },\n",
        "    'parameters': {\n",
        "\n",
        "        'epochs': {\n",
        "            'values': [5, 10]\n",
        "        },\n",
        "        'num_hidden_layers':{\n",
        "            'values': [3, 4, 5]\n",
        "        },\n",
        "         'num_neurons':{\n",
        "            'values':[32, 64, 128]\n",
        "        },\n",
        "        'learning_rate':{\n",
        "            'values':[1e-3, 1e-4]\n",
        "        },\n",
        "        'act_fn': {\n",
        "            'values': ['sigmoid', 'tanh', 'relu']\n",
        "        },\n",
        "        'optimizer': {\n",
        "            'values': ['sgd', 'mgd', 'nesterov_agd', 'rmsprop', 'adam', 'nadam']\n",
        "        },\n",
        "        'batch_size': {\n",
        "            'values': [32, 64, 128]\n",
        "        },\n",
        "        'weight_init': {\n",
        "            'values': ['random', 'xavier']\n",
        "        },\n",
        "        'l2_reg':{\n",
        "            'values': [0, 0.0005, 0.5]\n",
        "        }\n",
        "    }\n",
        "}\n",
        "\n",
        "sweep_id = wandb.sweep(sweep = sweep_config, project=\"DA6401-Assignment_1\")\n",
        "# sweep_id=\"t43z3pfq\""
      ]
    },
    {
      "cell_type": "code",
      "execution_count": 11,
      "metadata": {
        "colab": {
          "base_uri": "https://localhost:8080/",
          "height": 1000
        },
        "id": "tXduiX6F0DLs",
        "outputId": "ea430a75-98df-444e-a65e-151e48f4331f"
      },
      "outputs": [
        {
          "output_type": "stream",
          "name": "stderr",
          "text": [
            "\u001b[34m\u001b[1mwandb\u001b[0m: Agent Starting Run: euq9hbiw with config:\n",
            "\u001b[34m\u001b[1mwandb\u001b[0m: \tact_fn: sigmoid\n",
            "\u001b[34m\u001b[1mwandb\u001b[0m: \tbatch_size: 128\n",
            "\u001b[34m\u001b[1mwandb\u001b[0m: \tepochs: 5\n",
            "\u001b[34m\u001b[1mwandb\u001b[0m: \tl2_reg: 0\n",
            "\u001b[34m\u001b[1mwandb\u001b[0m: \tlearning_rate: 0.001\n",
            "\u001b[34m\u001b[1mwandb\u001b[0m: \tnum_hidden_layers: 5\n",
            "\u001b[34m\u001b[1mwandb\u001b[0m: \tnum_neurons: 128\n",
            "\u001b[34m\u001b[1mwandb\u001b[0m: \toptimizer: mgd\n",
            "\u001b[34m\u001b[1mwandb\u001b[0m: \tweight_init: random\n"
          ]
        },
        {
          "output_type": "display_data",
          "data": {
            "text/plain": [
              "<IPython.core.display.HTML object>"
            ],
            "text/html": [
              "Tracking run with wandb version 0.19.8"
            ]
          },
          "metadata": {}
        },
        {
          "output_type": "display_data",
          "data": {
            "text/plain": [
              "<IPython.core.display.HTML object>"
            ],
            "text/html": [
              "Run data is saved locally in <code>/content/wandb/run-20250316_162720-euq9hbiw</code>"
            ]
          },
          "metadata": {}
        },
        {
          "output_type": "display_data",
          "data": {
            "text/plain": [
              "<IPython.core.display.HTML object>"
            ],
            "text/html": [
              "Syncing run <strong><a href='https://wandb.ai/iitm-ma23m015/DA6401-Assignment_1/runs/euq9hbiw' target=\"_blank\">sage-sweep-3</a></strong> to <a href='https://wandb.ai/iitm-ma23m015/DA6401-Assignment_1' target=\"_blank\">Weights & Biases</a> (<a href='https://wandb.me/developer-guide' target=\"_blank\">docs</a>)<br>Sweep page: <a href='https://wandb.ai/iitm-ma23m015/DA6401-Assignment_1/sweeps/nu0g61xm' target=\"_blank\">https://wandb.ai/iitm-ma23m015/DA6401-Assignment_1/sweeps/nu0g61xm</a>"
            ]
          },
          "metadata": {}
        },
        {
          "output_type": "display_data",
          "data": {
            "text/plain": [
              "<IPython.core.display.HTML object>"
            ],
            "text/html": [
              " View project at <a href='https://wandb.ai/iitm-ma23m015/DA6401-Assignment_1' target=\"_blank\">https://wandb.ai/iitm-ma23m015/DA6401-Assignment_1</a>"
            ]
          },
          "metadata": {}
        },
        {
          "output_type": "display_data",
          "data": {
            "text/plain": [
              "<IPython.core.display.HTML object>"
            ],
            "text/html": [
              " View sweep at <a href='https://wandb.ai/iitm-ma23m015/DA6401-Assignment_1/sweeps/nu0g61xm' target=\"_blank\">https://wandb.ai/iitm-ma23m015/DA6401-Assignment_1/sweeps/nu0g61xm</a>"
            ]
          },
          "metadata": {}
        },
        {
          "output_type": "display_data",
          "data": {
            "text/plain": [
              "<IPython.core.display.HTML object>"
            ],
            "text/html": [
              " View run at <a href='https://wandb.ai/iitm-ma23m015/DA6401-Assignment_1/runs/euq9hbiw' target=\"_blank\">https://wandb.ai/iitm-ma23m015/DA6401-Assignment_1/runs/euq9hbiw</a>"
            ]
          },
          "metadata": {}
        },
        {
          "output_type": "stream",
          "name": "stdout",
          "text": [
            "End of Epoch 1, Loss: 1.5624328023200602, Accuracy: 0.4519444444444444\n",
            "End of Epoch 1, Validation Loss: 1.583238144501717, Validation Accuracy: 0.44416666666666665\n",
            "End of Epoch 2, Loss: 1.2593884718437796, Accuracy: 0.5540185185185185\n",
            "End of Epoch 2, Validation Loss: 1.27610092533446, Validation Accuracy: 0.5473333333333333\n",
            "End of Epoch 3, Loss: 1.1302242164704521, Accuracy: 0.5951111111111111\n",
            "End of Epoch 3, Validation Loss: 1.1428632113726287, Validation Accuracy: 0.5915\n",
            "End of Epoch 4, Loss: 1.0474633228995849, Accuracy: 0.6261296296296296\n",
            "End of Epoch 4, Validation Loss: 1.057096883123841, Validation Accuracy: 0.6245\n",
            "End of Epoch 5, Loss: 0.9893894594265946, Accuracy: 0.6456296296296297\n",
            "End of Epoch 5, Validation Loss: 0.9981770711533678, Validation Accuracy: 0.6405\n"
          ]
        },
        {
          "output_type": "display_data",
          "data": {
            "text/plain": [
              "<IPython.core.display.HTML object>"
            ],
            "text/html": []
          },
          "metadata": {}
        },
        {
          "output_type": "display_data",
          "data": {
            "text/plain": [
              "<IPython.core.display.HTML object>"
            ],
            "text/html": [
              "<br>    <style><br>        .wandb-row {<br>            display: flex;<br>            flex-direction: row;<br>            flex-wrap: wrap;<br>            justify-content: flex-start;<br>            width: 100%;<br>        }<br>        .wandb-col {<br>            display: flex;<br>            flex-direction: column;<br>            flex-basis: 100%;<br>            flex: 1;<br>            padding: 10px;<br>        }<br>    </style><br><div class=\"wandb-row\"><div class=\"wandb-col\"><h3>Run history:</h3><br/><table class=\"wandb\"><tr><td>epoch</td><td>▁▃▅▆█</td></tr><tr><td>train_accuracy</td><td>▁▅▆▇█</td></tr><tr><td>train_loss</td><td>█▄▃▂▁</td></tr><tr><td>val_loss</td><td>█▄▃▂▁</td></tr><tr><td>validation_accuracy</td><td>▁▅▆▇█</td></tr></table><br/></div><div class=\"wandb-col\"><h3>Run summary:</h3><br/><table class=\"wandb\"><tr><td>epoch</td><td>5</td></tr><tr><td>train_accuracy</td><td>64.56296</td></tr><tr><td>train_loss</td><td>0.98939</td></tr><tr><td>val_loss</td><td>0.99818</td></tr><tr><td>validation_accuracy</td><td>64.05</td></tr></table><br/></div></div>"
            ]
          },
          "metadata": {}
        },
        {
          "output_type": "display_data",
          "data": {
            "text/plain": [
              "<IPython.core.display.HTML object>"
            ],
            "text/html": [
              " View run <strong style=\"color:#cdcd00\">-ep_5-ac-fn_sigmoid-lr_0.001-opt_mgd-bs_128-wt_initrandom-hl_5-hs_128</strong> at: <a href='https://wandb.ai/iitm-ma23m015/DA6401-Assignment_1/runs/euq9hbiw' target=\"_blank\">https://wandb.ai/iitm-ma23m015/DA6401-Assignment_1/runs/euq9hbiw</a><br> View project at: <a href='https://wandb.ai/iitm-ma23m015/DA6401-Assignment_1' target=\"_blank\">https://wandb.ai/iitm-ma23m015/DA6401-Assignment_1</a><br>Synced 5 W&B file(s), 0 media file(s), 0 artifact file(s) and 0 other file(s)"
            ]
          },
          "metadata": {}
        },
        {
          "output_type": "display_data",
          "data": {
            "text/plain": [
              "<IPython.core.display.HTML object>"
            ],
            "text/html": [
              "Find logs at: <code>./wandb/run-20250316_162720-euq9hbiw/logs</code>"
            ]
          },
          "metadata": {}
        },
        {
          "output_type": "stream",
          "name": "stderr",
          "text": [
            "\u001b[34m\u001b[1mwandb\u001b[0m: Agent Starting Run: xfdkd8u6 with config:\n",
            "\u001b[34m\u001b[1mwandb\u001b[0m: \tact_fn: sigmoid\n",
            "\u001b[34m\u001b[1mwandb\u001b[0m: \tbatch_size: 128\n",
            "\u001b[34m\u001b[1mwandb\u001b[0m: \tepochs: 10\n",
            "\u001b[34m\u001b[1mwandb\u001b[0m: \tl2_reg: 0\n",
            "\u001b[34m\u001b[1mwandb\u001b[0m: \tlearning_rate: 0.001\n",
            "\u001b[34m\u001b[1mwandb\u001b[0m: \tnum_hidden_layers: 4\n",
            "\u001b[34m\u001b[1mwandb\u001b[0m: \tnum_neurons: 128\n",
            "\u001b[34m\u001b[1mwandb\u001b[0m: \toptimizer: nadam\n",
            "\u001b[34m\u001b[1mwandb\u001b[0m: \tweight_init: xavier\n"
          ]
        },
        {
          "output_type": "display_data",
          "data": {
            "text/plain": [
              "<IPython.core.display.HTML object>"
            ],
            "text/html": [
              "Tracking run with wandb version 0.19.8"
            ]
          },
          "metadata": {}
        },
        {
          "output_type": "display_data",
          "data": {
            "text/plain": [
              "<IPython.core.display.HTML object>"
            ],
            "text/html": [
              "Run data is saved locally in <code>/content/wandb/run-20250316_162821-xfdkd8u6</code>"
            ]
          },
          "metadata": {}
        },
        {
          "output_type": "display_data",
          "data": {
            "text/plain": [
              "<IPython.core.display.HTML object>"
            ],
            "text/html": [
              "Syncing run <strong><a href='https://wandb.ai/iitm-ma23m015/DA6401-Assignment_1/runs/xfdkd8u6' target=\"_blank\">chocolate-sweep-4</a></strong> to <a href='https://wandb.ai/iitm-ma23m015/DA6401-Assignment_1' target=\"_blank\">Weights & Biases</a> (<a href='https://wandb.me/developer-guide' target=\"_blank\">docs</a>)<br>Sweep page: <a href='https://wandb.ai/iitm-ma23m015/DA6401-Assignment_1/sweeps/nu0g61xm' target=\"_blank\">https://wandb.ai/iitm-ma23m015/DA6401-Assignment_1/sweeps/nu0g61xm</a>"
            ]
          },
          "metadata": {}
        },
        {
          "output_type": "display_data",
          "data": {
            "text/plain": [
              "<IPython.core.display.HTML object>"
            ],
            "text/html": [
              " View project at <a href='https://wandb.ai/iitm-ma23m015/DA6401-Assignment_1' target=\"_blank\">https://wandb.ai/iitm-ma23m015/DA6401-Assignment_1</a>"
            ]
          },
          "metadata": {}
        },
        {
          "output_type": "display_data",
          "data": {
            "text/plain": [
              "<IPython.core.display.HTML object>"
            ],
            "text/html": [
              " View sweep at <a href='https://wandb.ai/iitm-ma23m015/DA6401-Assignment_1/sweeps/nu0g61xm' target=\"_blank\">https://wandb.ai/iitm-ma23m015/DA6401-Assignment_1/sweeps/nu0g61xm</a>"
            ]
          },
          "metadata": {}
        },
        {
          "output_type": "display_data",
          "data": {
            "text/plain": [
              "<IPython.core.display.HTML object>"
            ],
            "text/html": [
              " View run at <a href='https://wandb.ai/iitm-ma23m015/DA6401-Assignment_1/runs/xfdkd8u6' target=\"_blank\">https://wandb.ai/iitm-ma23m015/DA6401-Assignment_1/runs/xfdkd8u6</a>"
            ]
          },
          "metadata": {}
        },
        {
          "output_type": "stream",
          "name": "stdout",
          "text": [
            "End of Epoch 1, Loss: 0.5643622755719957, Accuracy: 0.7898888888888889\n",
            "End of Epoch 1, Validation Loss: 0.5695704303919439, Validation Accuracy: 0.7875\n",
            "End of Epoch 2, Loss: 0.480244896392108, Accuracy: 0.8314444444444444\n",
            "End of Epoch 2, Validation Loss: 0.48925572411082097, Validation Accuracy: 0.8268333333333333\n",
            "End of Epoch 3, Loss: 0.44380104044197366, Accuracy: 0.843925925925926\n",
            "End of Epoch 3, Validation Loss: 0.4540252019627991, Validation Accuracy: 0.839\n",
            "End of Epoch 4, Loss: 0.42119597977099793, Accuracy: 0.8526851851851852\n",
            "End of Epoch 4, Validation Loss: 0.4321793326855493, Validation Accuracy: 0.8435\n",
            "End of Epoch 5, Loss: 0.40442446919118374, Accuracy: 0.8580740740740741\n",
            "End of Epoch 5, Validation Loss: 0.41635533632505395, Validation Accuracy: 0.8491666666666666\n",
            "End of Epoch 6, Loss: 0.39133227207767535, Accuracy: 0.862537037037037\n",
            "End of Epoch 6, Validation Loss: 0.40427219042397133, Validation Accuracy: 0.8536666666666667\n",
            "End of Epoch 7, Loss: 0.3807963814419061, Accuracy: 0.8658148148148148\n",
            "End of Epoch 7, Validation Loss: 0.39479684060280634, Validation Accuracy: 0.8551666666666666\n",
            "End of Epoch 8, Loss: 0.3719823805917206, Accuracy: 0.8680925925925926\n",
            "End of Epoch 8, Validation Loss: 0.3871376176838314, Validation Accuracy: 0.8581666666666666\n",
            "End of Epoch 9, Loss: 0.3643399314386437, Accuracy: 0.8704074074074074\n",
            "End of Epoch 9, Validation Loss: 0.38076530966015903, Validation Accuracy: 0.8601666666666666\n",
            "End of Epoch 10, Loss: 0.3575369052232929, Accuracy: 0.8725\n",
            "End of Epoch 10, Validation Loss: 0.37534286895474345, Validation Accuracy: 0.861\n"
          ]
        },
        {
          "output_type": "display_data",
          "data": {
            "text/plain": [
              "<IPython.core.display.HTML object>"
            ],
            "text/html": []
          },
          "metadata": {}
        },
        {
          "output_type": "display_data",
          "data": {
            "text/plain": [
              "<IPython.core.display.HTML object>"
            ],
            "text/html": [
              "<br>    <style><br>        .wandb-row {<br>            display: flex;<br>            flex-direction: row;<br>            flex-wrap: wrap;<br>            justify-content: flex-start;<br>            width: 100%;<br>        }<br>        .wandb-col {<br>            display: flex;<br>            flex-direction: column;<br>            flex-basis: 100%;<br>            flex: 1;<br>            padding: 10px;<br>        }<br>    </style><br><div class=\"wandb-row\"><div class=\"wandb-col\"><h3>Run history:</h3><br/><table class=\"wandb\"><tr><td>epoch</td><td>▁▂▃▃▄▅▆▆▇█</td></tr><tr><td>train_accuracy</td><td>▁▅▆▆▇▇▇███</td></tr><tr><td>train_loss</td><td>█▅▄▃▃▂▂▁▁▁</td></tr><tr><td>val_loss</td><td>█▅▄▃▂▂▂▁▁▁</td></tr><tr><td>validation_accuracy</td><td>▁▅▆▆▇▇▇███</td></tr></table><br/></div><div class=\"wandb-col\"><h3>Run summary:</h3><br/><table class=\"wandb\"><tr><td>epoch</td><td>10</td></tr><tr><td>train_accuracy</td><td>87.25</td></tr><tr><td>train_loss</td><td>0.35754</td></tr><tr><td>val_loss</td><td>0.37534</td></tr><tr><td>validation_accuracy</td><td>86.1</td></tr></table><br/></div></div>"
            ]
          },
          "metadata": {}
        },
        {
          "output_type": "display_data",
          "data": {
            "text/plain": [
              "<IPython.core.display.HTML object>"
            ],
            "text/html": [
              " View run <strong style=\"color:#cdcd00\">-ep_10-ac-fn_sigmoid-lr_0.001-opt_nadam-bs_128-wt_initxavier-hl_4-hs_128</strong> at: <a href='https://wandb.ai/iitm-ma23m015/DA6401-Assignment_1/runs/xfdkd8u6' target=\"_blank\">https://wandb.ai/iitm-ma23m015/DA6401-Assignment_1/runs/xfdkd8u6</a><br> View project at: <a href='https://wandb.ai/iitm-ma23m015/DA6401-Assignment_1' target=\"_blank\">https://wandb.ai/iitm-ma23m015/DA6401-Assignment_1</a><br>Synced 5 W&B file(s), 0 media file(s), 0 artifact file(s) and 0 other file(s)"
            ]
          },
          "metadata": {}
        },
        {
          "output_type": "display_data",
          "data": {
            "text/plain": [
              "<IPython.core.display.HTML object>"
            ],
            "text/html": [
              "Find logs at: <code>./wandb/run-20250316_162821-xfdkd8u6/logs</code>"
            ]
          },
          "metadata": {}
        }
      ],
      "source": [
        "\n",
        "def main():\n",
        "  '''\n",
        "  WandB calls main function each time with differnet combination.\n",
        "\n",
        "  We can retrive the same and use the same values for our hypermeters.\n",
        "\n",
        "  '''\n",
        "\n",
        "  with wandb.init() as run:\n",
        "    run_name= \"-ep_\"+str(wandb.config.epochs) +\"-ac-fn_\"+ wandb.config.act_fn + \"-lr_\" + str(wandb.config.learning_rate) \\\n",
        "    +\"-opt_\"+wandb.config.optimizer+\"-bs_\"+str(wandb.config.batch_size) +\"-wt_init\"+wandb.config.weight_init\\\n",
        "    +\"-hl_\"+str(wandb.config.num_hidden_layers)+\"-hs_\"+str(wandb.config.num_neurons)\n",
        "    wandb.run.name = run_name\n",
        "\n",
        "    # Load the Fashion MNIST dataset\n",
        "    (x_train, y_train), (x_test, y_test) = fashion_mnist.load_data()\n",
        "    Fnn = FFNN(x_train, y_train, x_test, y_test,num_hidden_layers = wandb.config.num_hidden_layers,num_neurons = wandb.config.num_neurons,weight_init = wandb.config.weight_init,\n",
        "                act = wandb.config.act_fn,l2_reg = wandb.config.l2_reg)\n",
        "\n",
        "    parameters= Fnn.train_model(epochs = wandb.config.epochs,eta = wandb.config.learning_rate,optimizer = wandb.config.optimizer,  batch_size = int(wandb.config.batch_size))\n",
        "\n",
        "\n",
        "\n",
        "wandb.agent(sweep_id, function = main, count = 2)\n",
        "wandb.finish()\n"
      ]
    },
    {
      "cell_type": "code",
      "execution_count": null,
      "metadata": {
        "id": "xgaalwFD0Jhn"
      },
      "outputs": [],
      "source": [
        "#Create sweep with ID: ghaa33ue\n",
        "#Create sweep with ID: pinxf8m6\n",
        "#Create sweep with ID: 2iyzumxl\n"
      ]
    },
    {
      "cell_type": "code",
      "source": [
        "Fnn = FFNN(x_train, y_train, x_test, y_test,num_hidden_layers=3,num_neurons = 128,weight_init = 'xavier',\n",
        "                act = 'relu',l2_reg = 0)\n",
        "    # hyperparameter values obtained from wandb config\n",
        "parameters= Fnn.train_model(epochs = 10,eta=1e-3,optimizer = 'nadam1',  batch_size =128)\n",
        "loss,accuracy,y_test_pred=Fnn.cal_test_accuracy(x_test)\n",
        "print(loss,'\\t',accuracy,'\\t')"
      ],
      "metadata": {
        "colab": {
          "base_uri": "https://localhost:8080/"
        },
        "id": "2Wv_6kITR_Dk",
        "outputId": "8528a490-2db4-4b83-91ff-10ec0995e589"
      },
      "execution_count": 64,
      "outputs": [
        {
          "output_type": "stream",
          "name": "stdout",
          "text": [
            "End of Epoch 1, Loss: 0.3763982935930961, Accuracy: 0.8683333333333333\n",
            "End of Epoch 1, Validation Loss: 0.39068201554277493, Validation Accuracy: 0.861\n",
            "End of Epoch 2, Loss: 0.3341148402086585, Accuracy: 0.8807592592592592\n",
            "End of Epoch 2, Validation Loss: 0.358082139610422, Validation Accuracy: 0.8733333333333333\n",
            "End of Epoch 3, Loss: 0.3127049247800794, Accuracy: 0.8870555555555556\n",
            "End of Epoch 3, Validation Loss: 0.34349493193443714, Validation Accuracy: 0.8795\n",
            "End of Epoch 4, Loss: 0.29914286501249415, Accuracy: 0.8913518518518518\n",
            "End of Epoch 4, Validation Loss: 0.33594890421537565, Validation Accuracy: 0.8798333333333334\n",
            "End of Epoch 5, Loss: 0.288630345047768, Accuracy: 0.8947962962962963\n",
            "End of Epoch 5, Validation Loss: 0.3316496852369364, Validation Accuracy: 0.8805\n",
            "End of Epoch 6, Loss: 0.2795387529341764, Accuracy: 0.8977222222222222\n",
            "End of Epoch 6, Validation Loss: 0.3273981436404926, Validation Accuracy: 0.8848333333333334\n",
            "End of Epoch 7, Loss: 0.27181491516975437, Accuracy: 0.900425925925926\n",
            "End of Epoch 7, Validation Loss: 0.32480836075847264, Validation Accuracy: 0.8851666666666667\n",
            "End of Epoch 8, Loss: 0.2651602261170144, Accuracy: 0.9025555555555556\n",
            "End of Epoch 8, Validation Loss: 0.3222647953438321, Validation Accuracy: 0.888\n",
            "End of Epoch 9, Loss: 0.25862360382689287, Accuracy: 0.9049074074074074\n",
            "End of Epoch 9, Validation Loss: 0.3199218655468031, Validation Accuracy: 0.888\n",
            "End of Epoch 10, Loss: 0.2529984088813237, Accuracy: 0.9072037037037037\n",
            "End of Epoch 10, Validation Loss: 0.3184919122576837, Validation Accuracy: 0.8895\n",
            "0.3386242017708062 \t 0.8801 \t\n"
          ]
        }
      ]
    },
    {
      "cell_type": "code",
      "source": [
        "from sklearn.metrics import confusion_matrix\n",
        "import seaborn as sns\n",
        "import matplotlib.pyplot as plt\n",
        "import wandb\n",
        "\n",
        "\n",
        "wandb.init(project=\"DA6401-Assignment_1\", name=\"confusion_matrix\")\n",
        "\n",
        "\n",
        "y_test_pred_labels = np.argmax(y_test_pred, axis=0)\n",
        "conf_matrix = confusion_matrix(Fnn.y_test, y_test_pred_labels)\n",
        "\n",
        "\n",
        "class_labels = [\"T-shirt\", \"Trouser\", \"Pullover\", \"Dress\", \"Coat\", \"Sandal\", \"Shirt\", \"Sneaker\", \"Bag\", \"Ankle boot\"]\n",
        "\n",
        "\n",
        "plt.figure(figsize=(8, 8))\n",
        "sns.heatmap(conf_matrix, annot=True, fmt='d', cmap='YlGnBu',\n",
        "            xticklabels=class_labels, yticklabels=class_labels)\n",
        "\n",
        "\n",
        "plt.tight_layout()\n",
        "\n",
        "\n",
        "plt.savefig(\"confusion_matrix.png\")\n",
        "\n",
        "\n",
        "wandb.log({\n",
        "    \"Confusion Matrix (Image)\": wandb.Image(\"confusion_matrix.png\"),\n",
        "    \"Confusion Matrix (Interactive)\": wandb.plot.confusion_matrix(probs=None,\n",
        "                                                                 y_true=Fnn.y_test,\n",
        "                                                                 preds=y_test_pred_labels,\n",
        "                                                                 class_names=class_labels)\n",
        "})\n",
        "\n",
        "# Finish wandb run\n",
        "wandb.finish()\n"
      ],
      "metadata": {
        "colab": {
          "base_uri": "https://localhost:8080/",
          "height": 963
        },
        "id": "2lyP_D-CavmI",
        "outputId": "c71156c9-90ba-4749-e6c4-e31d829fc2b2"
      },
      "execution_count": 65,
      "outputs": [
        {
          "output_type": "display_data",
          "data": {
            "text/plain": [
              "<IPython.core.display.HTML object>"
            ],
            "text/html": [
              "Tracking run with wandb version 0.19.8"
            ]
          },
          "metadata": {}
        },
        {
          "output_type": "display_data",
          "data": {
            "text/plain": [
              "<IPython.core.display.HTML object>"
            ],
            "text/html": [
              "Run data is saved locally in <code>/content/wandb/run-20250317_180918-307a1qmk</code>"
            ]
          },
          "metadata": {}
        },
        {
          "output_type": "display_data",
          "data": {
            "text/plain": [
              "<IPython.core.display.HTML object>"
            ],
            "text/html": [
              "Syncing run <strong><a href='https://wandb.ai/iitm-ma23m015/DA6401-Assignment_1/runs/307a1qmk' target=\"_blank\">confusion_matrix</a></strong> to <a href='https://wandb.ai/iitm-ma23m015/DA6401-Assignment_1' target=\"_blank\">Weights & Biases</a> (<a href='https://wandb.me/developer-guide' target=\"_blank\">docs</a>)<br>"
            ]
          },
          "metadata": {}
        },
        {
          "output_type": "display_data",
          "data": {
            "text/plain": [
              "<IPython.core.display.HTML object>"
            ],
            "text/html": [
              " View project at <a href='https://wandb.ai/iitm-ma23m015/DA6401-Assignment_1' target=\"_blank\">https://wandb.ai/iitm-ma23m015/DA6401-Assignment_1</a>"
            ]
          },
          "metadata": {}
        },
        {
          "output_type": "display_data",
          "data": {
            "text/plain": [
              "<IPython.core.display.HTML object>"
            ],
            "text/html": [
              " View run at <a href='https://wandb.ai/iitm-ma23m015/DA6401-Assignment_1/runs/307a1qmk' target=\"_blank\">https://wandb.ai/iitm-ma23m015/DA6401-Assignment_1/runs/307a1qmk</a>"
            ]
          },
          "metadata": {}
        },
        {
          "output_type": "display_data",
          "data": {
            "text/plain": [
              "<IPython.core.display.HTML object>"
            ],
            "text/html": []
          },
          "metadata": {}
        },
        {
          "output_type": "display_data",
          "data": {
            "text/plain": [
              "<IPython.core.display.HTML object>"
            ],
            "text/html": [
              " View run <strong style=\"color:#cdcd00\">confusion_matrix</strong> at: <a href='https://wandb.ai/iitm-ma23m015/DA6401-Assignment_1/runs/307a1qmk' target=\"_blank\">https://wandb.ai/iitm-ma23m015/DA6401-Assignment_1/runs/307a1qmk</a><br> View project at: <a href='https://wandb.ai/iitm-ma23m015/DA6401-Assignment_1' target=\"_blank\">https://wandb.ai/iitm-ma23m015/DA6401-Assignment_1</a><br>Synced 5 W&B file(s), 2 media file(s), 2 artifact file(s) and 0 other file(s)"
            ]
          },
          "metadata": {}
        },
        {
          "output_type": "display_data",
          "data": {
            "text/plain": [
              "<IPython.core.display.HTML object>"
            ],
            "text/html": [
              "Find logs at: <code>./wandb/run-20250317_180918-307a1qmk/logs</code>"
            ]
          },
          "metadata": {}
        },
        {
          "output_type": "display_data",
          "data": {
            "text/plain": [
              "<Figure size 800x800 with 2 Axes>"
            ],
            "image/png": "[encoded data removed]"
          },
          "metadata": {}
        }
      ]
    },
    {
      "cell_type": "code",
      "source": [],
      "metadata": {
        "id": "EedY_xFcQ55B"
      },
      "execution_count": null,
      "outputs": []
    },
    {
      "cell_type": "code",
      "source": [
        "from keras.datasets import mnist\n",
        "\n",
        "(x_train1, y_train1), (x_test1, y_test1) = mnist.load_data()\n",
        "\n",
        "\n",
        "Fnn1 = FFNN(x_train1, y_train1, x_test1, y_test1,num_hidden_layers=4,num_neurons = 128,weight_init = 'xavier',\n",
        "                act = 'relu',l2_reg = 0)\n",
        "    # hyperparameter values obtained from wandb config\n",
        "parameters1= Fnn1.train_model(epochs = 10,eta=1e-3,optimizer = 'adam1',  batch_size =32)\n",
        "loss1,accuracy1,y_test_pred1=Fnn1.cal_test_accuracy(x_test)\n",
        "print(loss1,'\\t',accuracy1,'\\t')"
      ],
      "metadata": {
        "colab": {
          "base_uri": "https://localhost:8080/"
        },
        "id": "deU-Axiw25_m",
        "outputId": "604342f8-0a93-4f06-b3e6-2a1ef97c3ccd"
      },
      "execution_count": 17,
      "outputs": [
        {
          "output_type": "stream",
          "name": "stdout",
          "text": [
            "End of Epoch 1, Loss: 0.11647544602319035, Accuracy: 0.9656666666666667\n",
            "End of Epoch 1, Validation Loss: 0.13852583945856184, Validation Accuracy: 0.9575\n",
            "End of Epoch 2, Loss: 0.07254471807899078, Accuracy: 0.9782222222222222\n",
            "End of Epoch 2, Validation Loss: 0.10080222900652748, Validation Accuracy: 0.969\n",
            "End of Epoch 3, Loss: 0.054180955291145874, Accuracy: 0.983037037037037\n",
            "End of Epoch 3, Validation Loss: 0.09186889890507462, Validation Accuracy: 0.9716666666666667\n",
            "End of Epoch 4, Loss: 0.04204787675502149, Accuracy: 0.9868333333333333\n",
            "End of Epoch 4, Validation Loss: 0.08756420229901773, Validation Accuracy: 0.9735\n",
            "End of Epoch 5, Loss: 0.032962862061085875, Accuracy: 0.9893888888888889\n",
            "End of Epoch 5, Validation Loss: 0.08538470329746439, Validation Accuracy: 0.9741666666666666\n",
            "End of Epoch 6, Loss: 0.02513989290265591, Accuracy: 0.9919629629629629\n",
            "End of Epoch 6, Validation Loss: 0.0842817735283127, Validation Accuracy: 0.9765\n",
            "End of Epoch 7, Loss: 0.020995674501090477, Accuracy: 0.9930555555555556\n",
            "End of Epoch 7, Validation Loss: 0.08678797582055628, Validation Accuracy: 0.9771666666666666\n",
            "End of Epoch 8, Loss: 0.015147434357037009, Accuracy: 0.9950925925925926\n",
            "End of Epoch 8, Validation Loss: 0.08695900308172805, Validation Accuracy: 0.976\n",
            "End of Epoch 9, Loss: 0.012202836642321642, Accuracy: 0.9960555555555556\n",
            "End of Epoch 9, Validation Loss: 0.08670377160820503, Validation Accuracy: 0.978\n",
            "End of Epoch 10, Loss: 0.010145884160706048, Accuracy: 0.9965925925925926\n",
            "End of Epoch 10, Validation Loss: 0.0904960935097771, Validation Accuracy: 0.979\n",
            "0.10443808027917824 \t 0.9757 \t\n"
          ]
        }
      ]
    },
    {
      "cell_type": "code",
      "source": [
        "Fnn2 = FFNN(x_train1, y_train1, x_test1, y_test1,num_hidden_layers=3,num_neurons = 128,weight_init = 'xavier',\n",
        "                act = 'relu',l2_reg = 0)\n",
        "    # hyperparameter values obtained from wandb config\n",
        "parameters2= Fnn2.train_model(epochs = 10,eta=1e-3,optimizer = 'nadam1',  batch_size =128)\n",
        "loss2,accuracy2,y_test_pred2=Fnn2.cal_test_accuracy(x_test)\n",
        "print(loss2,'\\t',accuracy2,'\\t')"
      ],
      "metadata": {
        "colab": {
          "base_uri": "https://localhost:8080/"
        },
        "id": "1VUSYA403p30",
        "outputId": "ca838b92-96dd-4d80-bf85-5fa7e1e53356"
      },
      "execution_count": 18,
      "outputs": [
        {
          "output_type": "stream",
          "name": "stdout",
          "text": [
            "End of Epoch 1, Loss: 0.13055834084092935, Accuracy: 0.9621481481481482\n",
            "End of Epoch 1, Validation Loss: 0.13867197438340642, Validation Accuracy: 0.9596666666666667\n",
            "End of Epoch 2, Loss: 0.09442881759804007, Accuracy: 0.9726851851851852\n",
            "End of Epoch 2, Validation Loss: 0.11209711419016029, Validation Accuracy: 0.968\n",
            "End of Epoch 3, Loss: 0.07613500229328872, Accuracy: 0.9779629629629629\n",
            "End of Epoch 3, Validation Loss: 0.10018376745539881, Validation Accuracy: 0.9696666666666667\n",
            "End of Epoch 4, Loss: 0.06436920298751139, Accuracy: 0.9812222222222222\n",
            "End of Epoch 4, Validation Loss: 0.09348852049109503, Validation Accuracy: 0.9713333333333334\n",
            "End of Epoch 5, Loss: 0.05590723872499897, Accuracy: 0.9842222222222222\n",
            "End of Epoch 5, Validation Loss: 0.08911606200087734, Validation Accuracy: 0.9721666666666666\n",
            "End of Epoch 6, Loss: 0.049274563995290475, Accuracy: 0.9862407407407408\n",
            "End of Epoch 6, Validation Loss: 0.08607540765104658, Validation Accuracy: 0.9733333333333334\n",
            "End of Epoch 7, Loss: 0.04374386474327684, Accuracy: 0.9879814814814815\n",
            "End of Epoch 7, Validation Loss: 0.08384289868853019, Validation Accuracy: 0.9745\n",
            "End of Epoch 8, Loss: 0.0390558496127212, Accuracy: 0.9893333333333333\n",
            "End of Epoch 8, Validation Loss: 0.08214865065842274, Validation Accuracy: 0.9751666666666666\n",
            "End of Epoch 9, Loss: 0.03500271389360412, Accuracy: 0.9907222222222222\n",
            "End of Epoch 9, Validation Loss: 0.08079580678698559, Validation Accuracy: 0.9756666666666667\n",
            "End of Epoch 10, Loss: 0.03141459659260527, Accuracy: 0.9917592592592592\n",
            "End of Epoch 10, Validation Loss: 0.07988184922576021, Validation Accuracy: 0.976\n",
            "0.08031720510087521 \t 0.9748 \t\n"
          ]
        }
      ]
    },
    {
      "cell_type": "code",
      "source": [
        "Fnn3 = FFNN(x_train1, y_train1, x_test1, y_test1,num_hidden_layers=5,num_neurons = 128,weight_init = 'xavier',\n",
        "                act = 'relu',l2_reg = 0)\n",
        "    # hyperparameter values obtained from wandb config\n",
        "parameters3= Fnn3.train_model(epochs = 10,eta=1e-3,optimizer = 'adam1',  batch_size =32)\n",
        "loss3,accuracy3,y_test_pred3=Fnn3.cal_test_accuracy(x_test)\n",
        "print(loss3,'\\t',accuracy3,'\\t')"
      ],
      "metadata": {
        "colab": {
          "base_uri": "https://localhost:8080/"
        },
        "id": "Md-GpnMM3tQp",
        "outputId": "4f034e89-96d2-4f3a-b5bd-f9f74cccf3df"
      },
      "execution_count": 19,
      "outputs": [
        {
          "output_type": "stream",
          "name": "stdout",
          "text": [
            "End of Epoch 1, Loss: 0.10398011222793693, Accuracy: 0.968925925925926\n",
            "End of Epoch 1, Validation Loss: 0.12352067542288941, Validation Accuracy: 0.9626666666666667\n",
            "End of Epoch 2, Loss: 0.06834660893353155, Accuracy: 0.9789074074074074\n",
            "End of Epoch 2, Validation Loss: 0.09688755252467422, Validation Accuracy: 0.9706666666666667\n",
            "End of Epoch 3, Loss: 0.0490662089354864, Accuracy: 0.9850555555555556\n",
            "End of Epoch 3, Validation Loss: 0.08626715419221806, Validation Accuracy: 0.9743333333333334\n",
            "End of Epoch 4, Loss: 0.036678759794168965, Accuracy: 0.9886666666666667\n",
            "End of Epoch 4, Validation Loss: 0.08408684729504673, Validation Accuracy: 0.9756666666666667\n",
            "End of Epoch 5, Loss: 0.02871840108271461, Accuracy: 0.9912407407407408\n",
            "End of Epoch 5, Validation Loss: 0.08556094111326018, Validation Accuracy: 0.9763333333333334\n",
            "End of Epoch 6, Loss: 0.022064591904332676, Accuracy: 0.9929629629629629\n",
            "End of Epoch 6, Validation Loss: 0.0921645360929804, Validation Accuracy: 0.9765\n",
            "End of Epoch 7, Loss: 0.015435829251060663, Accuracy: 0.995\n",
            "End of Epoch 7, Validation Loss: 0.09351678369924576, Validation Accuracy: 0.9775\n",
            "End of Epoch 8, Loss: 0.013738423130146052, Accuracy: 0.9953333333333333\n",
            "End of Epoch 8, Validation Loss: 0.10173916120726216, Validation Accuracy: 0.9775\n",
            "End of Epoch 9, Loss: 0.012944811991540925, Accuracy: 0.9955185185185185\n",
            "End of Epoch 9, Validation Loss: 0.10112432925420452, Validation Accuracy: 0.9788333333333333\n",
            "End of Epoch 10, Loss: 0.008584922845712622, Accuracy: 0.9973148148148148\n",
            "End of Epoch 10, Validation Loss: 0.10094834705957836, Validation Accuracy: 0.9773333333333334\n",
            "0.11105091497166686 \t 0.9758 \t\n"
          ]
        }
      ]
    },
    {
      "cell_type": "code",
      "source": [],
      "metadata": {
        "id": "7KG_42GU24A0"
      },
      "execution_count": null,
      "outputs": []
    }
  ],
  "metadata": {
    "colab": {
      "provenance": []
    },
    "kernelspec": {
      "display_name": "Python 3",
      "name": "python3"
    },
    "language_info": {
      "name": "python"
    }
  },
  "nbformat": 4,
  "nbformat_minor": 0
}